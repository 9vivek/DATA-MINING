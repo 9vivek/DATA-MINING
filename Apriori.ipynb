{
 "cells": [
  {
   "cell_type": "code",
   "execution_count": 1,
   "metadata": {},
   "outputs": [],
   "source": [
    "import numpy as np\n",
    "import pandas as pd\n",
    "import copy as cp\n",
    "import itertools\n",
    "#file=pd.read_csv(\"GroceryStoreDataSet.csv\")\n"
   ]
  },
  {
   "cell_type": "code",
   "execution_count": 2,
   "metadata": {},
   "outputs": [],
   "source": [
    "#file"
   ]
  },
  {
   "cell_type": "code",
   "execution_count": 3,
   "metadata": {},
   "outputs": [],
   "source": [
    "#cand = dictionary of itemset with corresponding frequency as value\n",
    "#n = total number of transaction\n",
    "#support = minimum support for a item to be frequenct\n",
    "#l = list of items which are frequent\n",
    "#s = list of item\n",
    "#n = length of combination set\n",
    "#lst = a list of item give the subset of length n\n",
    "#lk = lst of all frequenent itemset of length k\n",
    "#element = an item of lenght k+1\n",
    "#it will return True if all subset of ele are present in lk\n",
    "#lk1 = frequent itemset of length k\n",
    "#lk2 = candidates for length k=1\n",
    "#lk1 = candidate itemset of length k\n",
    "#c = Return dictionary of frequency of each candidate itemset in lk1\n",
    "#file = name of the file in which transaction data is given\n",
    "#support = minimum support at which frequenent items are considered\n",
    "#freq_set = frequent itemset which have frequency greater than support "
   ]
  },
  {
   "cell_type": "code",
   "execution_count": 4,
   "metadata": {},
   "outputs": [],
   "source": [
    "def candidate10(file):\n",
    "    f= open(file,\"r\")\n",
    "    c1 ={}\n",
    "    l = 0\n",
    "    for line in f.readlines():\n",
    "        l+=1\n",
    "        line = line.strip()\n",
    "        line =line.replace('\"','')\n",
    "        lst = line.split(',')\n",
    "        for item in lst:\n",
    "            count = c1.get(item,0)\n",
    "            c1[item] = count+1\n",
    "    return c1,l"
   ]
  },
  {
   "cell_type": "code",
   "execution_count": 5,
   "metadata": {},
   "outputs": [],
   "source": [
    "def frequency(cand,n,support):\n",
    "    l = []\n",
    "    for item in cand:\n",
    "        x = cand[item]/n\n",
    "        if x >= support:\n",
    "            l.append(item)\n",
    "    return l"
   ]
  },
  {
   "cell_type": "code",
   "execution_count": 6,
   "metadata": {},
   "outputs": [],
   "source": [
    "def subsets(s, n): \n",
    "    lst = []\n",
    "    for i in itertools.combinations(s, n):\n",
    "        lst.append(frozenset(i))\n",
    "    return lst"
   ]
  },
  {
   "cell_type": "code",
   "execution_count": 7,
   "metadata": {},
   "outputs": [],
   "source": [
    "def pruning(lk,element):\n",
    "    k = len(element)-1\n",
    "    subset = findsubsets(element,k)\n",
    "    for i in subset:\n",
    "        if i not in lk:\n",
    "            return False\n",
    "    return True"
   ]
  },
  {
   "cell_type": "code",
   "execution_count": 8,
   "metadata": {},
   "outputs": [],
   "source": [
    "def gen_cand(lk1):\n",
    "    lk = cp.deepcopy(lk1)\n",
    "    n = len(lk)\n",
    "    lk2 = []\n",
    "    k = len(lk[0])\n",
    "    for i in range(n-1):\n",
    "        lkt1 = list(lk[i])\n",
    "        for j in range(i+1,n):\n",
    "            lkt2 = list(lk[j])\n",
    "            flag =True\n",
    "            for l in range(k-1):\n",
    "                if lkt1[l]!=lkt2[l]:\n",
    "                    flag =False\n",
    "            if flag:\n",
    "                lst = cp.deepcopy(lkt1)\n",
    "                lst.append(lkt2[k-1])\n",
    "                lst = frozenset(lst)\n",
    "                if pruning(lk,lst):\n",
    "                    lk2.append(lst)\n",
    "    return lk2"
   ]
  },
  {
   "cell_type": "code",
   "execution_count": 9,
   "metadata": {},
   "outputs": [],
   "source": [
    "def get_candidate(filename,lk1):\n",
    "    lk = cp.deepcopy(lk1)\n",
    "    f = open(filename,\"r\")\n",
    "    c ={}\n",
    "    l = 0\n",
    "    k = len(lk[0])\n",
    "    for line in f.readlines():\n",
    "        l+=1\n",
    "        line = line.strip()\n",
    "        line =line.replace('\"','')\n",
    "        lst = line.split(',')\n",
    "        subset = findsubsets(lst,k)\n",
    "        for i in lk:\n",
    "            if i in subset:\n",
    "                count = c.get(i,0)\n",
    "                c[i]=count+1\n",
    "    return c\n"
   ]
  },
  {
   "cell_type": "code",
   "execution_count": 10,
   "metadata": {},
   "outputs": [],
   "source": [
    "def apriori(filename,support=0.40):\n",
    "    freq_set = []\n",
    "    cand1,n = candidate1('GroceryStoreDataSet.csv')\n",
    "    l1 = freq(cand1,n,support)\n",
    "    for i in l1:\n",
    "        freq_set.append(frozenset({i}))\n",
    "    c2 = findsubsets(l1,2)\n",
    "    while len(c2)!=0:\n",
    "        cand = get_candidate(filename,c2)\n",
    "        l2 = freq(cand,n,support)\n",
    "        if len(l2)==0:\n",
    "            break\n",
    "        for i in l2:\n",
    "            freq_set.append(i)\n",
    "        c2 = gen_cand(l2)\n",
    "    return freq_set\n"
   ]
  },
  {
   "cell_type": "code",
   "execution_count": null,
   "metadata": {},
   "outputs": [],
   "source": []
  }
 ],
 "metadata": {
  "kernelspec": {
   "display_name": "Python 3",
   "language": "python",
   "name": "python3"
  },
  "language_info": {
   "codemirror_mode": {
    "name": "ipython",
    "version": 3
   },
   "file_extension": ".py",
   "mimetype": "text/x-python",
   "name": "python",
   "nbconvert_exporter": "python",
   "pygments_lexer": "ipython3",
   "version": "3.7.1"
  }
 },
 "nbformat": 4,
 "nbformat_minor": 2
}
