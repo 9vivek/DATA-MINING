{
 "cells": [
  {
   "cell_type": "code",
   "execution_count": 1,
   "metadata": {},
   "outputs": [],
   "source": [
    "import pandas as pd\n",
    "import numpy as np\n",
    "import random\n",
    "import matplotlib.pyplot as plt\n",
    "from sklearn.metrics.pairwise import euclidean_distances"
   ]
  },
  {
   "cell_type": "code",
   "execution_count": 100,
   "metadata": {},
   "outputs": [],
   "source": [
    "def init_k(data,k):\n",
    "    matrix = euclidean_distances(data)\n",
    "    lst = []\n",
    "    v = np.random.randint(0,len(matrix))\n",
    "    lst.append(v)\n",
    "    dis = np.zeros(len(data))\n",
    "    for j in range(k-1):\n",
    "        for i in range(len(data)):\n",
    "            dis+= matrix[:,v]\n",
    "        v = np.argmax(dis)\n",
    "        lst.append(v)\n",
    "    return lst,matrix"
   ]
  },
  {
   "cell_type": "code",
   "execution_count": 101,
   "metadata": {},
   "outputs": [],
   "source": [
    "def Cluster(matrix,index):\n",
    "    cost = 0\n",
    "    cluster = np.zeros(len(matrix))\n",
    "    for i in range(len(matrix)):\n",
    "        minimum = np.inf \n",
    "        for j in range(len(index)):\n",
    "            if matrix[i,index[j]]<minimum:\n",
    "                cluster[i] = j+1\n",
    "                minimum = matrix[i,index[j]]\n",
    "        cost+=minimum\n",
    "    return cluster,cost"
   ]
  },
  {
   "cell_type": "code",
   "execution_count": 102,
   "metadata": {},
   "outputs": [],
   "source": [
    "def Kmedoids(data,k,max_iter=300):\n",
    "   \n",
    "    ini,mat = init_k(data,k)\n",
    "    cluster,cost = Cluster(matrix,index)\n",
    "    for i in range(max_iter):\n",
    "        swap = random.randint(0,len(data)-1)\n",
    "        if swap in index:\n",
    "            continue\n",
    "        else:\n",
    "            for j in range(k):\n",
    "                tmp = index[j]\n",
    "                index[j]=swap\n",
    "                cluster1,cost1=Cluster(matrix,index)\n",
    "                if cost > cost1:\n",
    "                    cluster = cluster1\n",
    "                    cost = cost1\n",
    "                    continue\n",
    "                else:\n",
    "                    index[j] = tmp\n",
    "    return cluster,cost"
   ]
  },
  {
   "cell_type": "code",
   "execution_count": 87,
   "metadata": {},
   "outputs": [],
   "source": [
    "#cluster, cost = Kmedoids(data,5)\n",
    "#print('The sum of total Intraclass Ecludian distance is = ',cost)\n",
    "#print('cluster representation is shown as\\n',cluster)"
   ]
  },
  {
   "cell_type": "code",
   "execution_count": null,
   "metadata": {},
   "outputs": [],
   "source": []
  }
 ],
 "metadata": {
  "kernelspec": {
   "display_name": "Python 3",
   "language": "python",
   "name": "python3"
  },
  "language_info": {
   "codemirror_mode": {
    "name": "ipython",
    "version": 3
   },
   "file_extension": ".py",
   "mimetype": "text/x-python",
   "name": "python",
   "nbconvert_exporter": "python",
   "pygments_lexer": "ipython3",
   "version": "3.7.1"
  }
 },
 "nbformat": 4,
 "nbformat_minor": 2
}
