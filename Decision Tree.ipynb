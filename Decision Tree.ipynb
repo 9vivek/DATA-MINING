{
  "nbformat": 4,
  "nbformat_minor": 0,
  "metadata": {
    "colab": {
      "name": "Untitled0.ipynb",
      "version": "0.3.2",
      "provenance": []
    },
    "kernelspec": {
      "name": "python3",
      "display_name": "Python 3"
    }
  },
  "cells": [
    {
      "cell_type": "code",
      "metadata": {
        "id": "LlAeKPlpScDw",
        "colab_type": "code",
        "colab": {}
      },
      "source": [
        "import pandas as pd\n",
        "import numpy as np\n",
        "from sklearn.datasets import load_iris"
      ],
      "execution_count": 0,
      "outputs": []
    },
    {
      "cell_type": "code",
      "metadata": {
        "id": "bf4vSckASnMP",
        "colab_type": "code",
        "colab": {}
      },
      "source": [
        "import matplotlib.pyplot as plt\n",
        "%matplotlib inline"
      ],
      "execution_count": 0,
      "outputs": []
    },
    {
      "cell_type": "code",
      "metadata": {
        "id": "RhDpzWmASr46",
        "colab_type": "code",
        "colab": {}
      },
      "source": [
        "iris = load_iris()"
      ],
      "execution_count": 0,
      "outputs": []
    },
    {
      "cell_type": "code",
      "metadata": {
        "id": "Gv5x7F6HSwHq",
        "colab_type": "code",
        "colab": {}
      },
      "source": [
        "x=iris.data\n",
        "y=iris.target"
      ],
      "execution_count": 0,
      "outputs": []
    },
    {
      "cell_type": "code",
      "metadata": {
        "id": "quV7cuzFSzV1",
        "colab_type": "code",
        "colab": {}
      },
      "source": [
        "data=np.c_[x,y]"
      ],
      "execution_count": 0,
      "outputs": []
    },
    {
      "cell_type": "code",
      "metadata": {
        "id": "oC2abGEpS2pS",
        "colab_type": "code",
        "colab": {}
      },
      "source": [
        "cols=['sepal_length','sepal_width','petal_length','petal_width']\n",
        "header=cols+['species']\n",
        "iris_df=pd.DataFrame(data=data,columns=header)"
      ],
      "execution_count": 0,
      "outputs": []
    },
    {
      "cell_type": "code",
      "metadata": {
        "id": "4OdRh2tdS5ZF",
        "colab_type": "code",
        "colab": {
          "base_uri": "https://localhost:8080/",
          "height": 204
        },
        "outputId": "619b9361-d27f-42ff-9d99-d841ec553245"
      },
      "source": [
        "iris_df.head()"
      ],
      "execution_count": 80,
      "outputs": [
        {
          "output_type": "execute_result",
          "data": {
            "text/html": [
              "<div>\n",
              "<style scoped>\n",
              "    .dataframe tbody tr th:only-of-type {\n",
              "        vertical-align: middle;\n",
              "    }\n",
              "\n",
              "    .dataframe tbody tr th {\n",
              "        vertical-align: top;\n",
              "    }\n",
              "\n",
              "    .dataframe thead th {\n",
              "        text-align: right;\n",
              "    }\n",
              "</style>\n",
              "<table border=\"1\" class=\"dataframe\">\n",
              "  <thead>\n",
              "    <tr style=\"text-align: right;\">\n",
              "      <th></th>\n",
              "      <th>sepal_length</th>\n",
              "      <th>sepal_width</th>\n",
              "      <th>petal_length</th>\n",
              "      <th>petal_width</th>\n",
              "      <th>species</th>\n",
              "    </tr>\n",
              "  </thead>\n",
              "  <tbody>\n",
              "    <tr>\n",
              "      <th>0</th>\n",
              "      <td>5.1</td>\n",
              "      <td>3.5</td>\n",
              "      <td>1.4</td>\n",
              "      <td>0.2</td>\n",
              "      <td>0.0</td>\n",
              "    </tr>\n",
              "    <tr>\n",
              "      <th>1</th>\n",
              "      <td>4.9</td>\n",
              "      <td>3.0</td>\n",
              "      <td>1.4</td>\n",
              "      <td>0.2</td>\n",
              "      <td>0.0</td>\n",
              "    </tr>\n",
              "    <tr>\n",
              "      <th>2</th>\n",
              "      <td>4.7</td>\n",
              "      <td>3.2</td>\n",
              "      <td>1.3</td>\n",
              "      <td>0.2</td>\n",
              "      <td>0.0</td>\n",
              "    </tr>\n",
              "    <tr>\n",
              "      <th>3</th>\n",
              "      <td>4.6</td>\n",
              "      <td>3.1</td>\n",
              "      <td>1.5</td>\n",
              "      <td>0.2</td>\n",
              "      <td>0.0</td>\n",
              "    </tr>\n",
              "    <tr>\n",
              "      <th>4</th>\n",
              "      <td>5.0</td>\n",
              "      <td>3.6</td>\n",
              "      <td>1.4</td>\n",
              "      <td>0.2</td>\n",
              "      <td>0.0</td>\n",
              "    </tr>\n",
              "  </tbody>\n",
              "</table>\n",
              "</div>"
            ],
            "text/plain": [
              "   sepal_length  sepal_width  petal_length  petal_width  species\n",
              "0           5.1          3.5           1.4          0.2      0.0\n",
              "1           4.9          3.0           1.4          0.2      0.0\n",
              "2           4.7          3.2           1.3          0.2      0.0\n",
              "3           4.6          3.1           1.5          0.2      0.0\n",
              "4           5.0          3.6           1.4          0.2      0.0"
            ]
          },
          "metadata": {
            "tags": []
          },
          "execution_count": 80
        }
      ]
    },
    {
      "cell_type": "code",
      "metadata": {
        "id": "wsh7-HpHS8PM",
        "colab_type": "code",
        "colab": {}
      },
      "source": [
        "iris_df.species.replace(0.0,'iris-sesota',inplace=True)\n",
        "iris_df.species.replace(1.0,'iris-versicolor',inplace=True)\n",
        "iris_df.species.replace(2.0,'iris-virginica',inplace=True)"
      ],
      "execution_count": 0,
      "outputs": []
    },
    {
      "cell_type": "code",
      "metadata": {
        "id": "4poLfuqRTAR9",
        "colab_type": "code",
        "colab": {
          "base_uri": "https://localhost:8080/",
          "height": 34
        },
        "outputId": "b469b814-cd50-45d7-dace-941ad4cd5f47"
      },
      "source": [
        "iris_df.shape"
      ],
      "execution_count": 83,
      "outputs": [
        {
          "output_type": "execute_result",
          "data": {
            "text/plain": [
              "(150, 5)"
            ]
          },
          "metadata": {
            "tags": []
          },
          "execution_count": 83
        }
      ]
    },
    {
      "cell_type": "code",
      "metadata": {
        "id": "kGH3eFdMTDIM",
        "colab_type": "code",
        "colab": {}
      },
      "source": [
        "class Question:\n",
        "    def __init__(self,column,value):\n",
        "        self.column=column\n",
        "        self.value=value\n",
        "    def match(self,data):\n",
        "        value=data[self.column]\n",
        "        return value>=self.value\n",
        "    def __repr__(self):\n",
        "        condition = \">=\"\n",
        "        return \"Is %s %s %s?\" % (\n",
        "            header[self.column], condition, str(self.value))"
      ],
      "execution_count": 0,
      "outputs": []
    },
    {
      "cell_type": "code",
      "metadata": {
        "id": "A23BwF03TXPS",
        "colab_type": "code",
        "colab": {
          "base_uri": "https://localhost:8080/",
          "height": 34
        },
        "outputId": "ec584887-3d96-4703-8419-698424168962"
      },
      "source": [
        "Question(0,6)\n",
        "q=Question(0,6)\n",
        "q.match(x[4])"
      ],
      "execution_count": 84,
      "outputs": [
        {
          "output_type": "execute_result",
          "data": {
            "text/plain": [
              "False"
            ]
          },
          "metadata": {
            "tags": []
          },
          "execution_count": 84
        }
      ]
    },
    {
      "cell_type": "code",
      "metadata": {
        "id": "FAviwp71TaZu",
        "colab_type": "code",
        "colab": {}
      },
      "source": [
        "def count_values(rows):\n",
        "    count={}\n",
        "    for row in  rows:\n",
        "      label=row[-1]\n",
        "      if label not in count:\n",
        "        count[label]=0\n",
        "      count[label]+=1\n",
        "    return count"
      ],
      "execution_count": 0,
      "outputs": []
    },
    {
      "cell_type": "code",
      "metadata": {
        "id": "egMiWvSjUXOr",
        "colab_type": "code",
        "colab": {
          "base_uri": "https://localhost:8080/",
          "height": 34
        },
        "outputId": "3d95d504-b829-46dc-bdb7-91ad6bd7e411"
      },
      "source": [
        "count_values(data)"
      ],
      "execution_count": 86,
      "outputs": [
        {
          "output_type": "execute_result",
          "data": {
            "text/plain": [
              "{0.0: 50, 1.0: 50, 2.0: 50}"
            ]
          },
          "metadata": {
            "tags": []
          },
          "execution_count": 86
        }
      ]
    },
    {
      "cell_type": "code",
      "metadata": {
        "id": "580WhNqjUaNz",
        "colab_type": "code",
        "colab": {}
      },
      "source": [
        "def partition(rows,question): \n",
        "    true_row,false_row=[],[]\n",
        "    for row in rows:\n",
        "        if question.match(row):\n",
        "            true_row.append(row)\n",
        "        else:\n",
        "            false_row.append(row)\n",
        "    return true_row,false_row"
      ],
      "execution_count": 0,
      "outputs": []
    },
    {
      "cell_type": "code",
      "metadata": {
        "id": "40a7R3f6UfSD",
        "colab_type": "code",
        "colab": {
          "base_uri": "https://localhost:8080/",
          "height": 1000
        },
        "outputId": "eb1592ed-3a52-4208-ee77-a363eb4b474b"
      },
      "source": [
        "print(Question(0,6))\n",
        "t_r,f_r=partition(data,Question(0,6))\n",
        "#f_r\n",
        "t_r\n"
      ],
      "execution_count": 88,
      "outputs": [
        {
          "output_type": "stream",
          "text": [
            "Is sepal_length >= 6?\n"
          ],
          "name": "stdout"
        },
        {
          "output_type": "execute_result",
          "data": {
            "text/plain": [
              "[array([7. , 3.2, 4.7, 1.4, 1. ]),\n",
              " array([6.4, 3.2, 4.5, 1.5, 1. ]),\n",
              " array([6.9, 3.1, 4.9, 1.5, 1. ]),\n",
              " array([6.5, 2.8, 4.6, 1.5, 1. ]),\n",
              " array([6.3, 3.3, 4.7, 1.6, 1. ]),\n",
              " array([6.6, 2.9, 4.6, 1.3, 1. ]),\n",
              " array([6. , 2.2, 4. , 1. , 1. ]),\n",
              " array([6.1, 2.9, 4.7, 1.4, 1. ]),\n",
              " array([6.7, 3.1, 4.4, 1.4, 1. ]),\n",
              " array([6.2, 2.2, 4.5, 1.5, 1. ]),\n",
              " array([6.1, 2.8, 4. , 1.3, 1. ]),\n",
              " array([6.3, 2.5, 4.9, 1.5, 1. ]),\n",
              " array([6.1, 2.8, 4.7, 1.2, 1. ]),\n",
              " array([6.4, 2.9, 4.3, 1.3, 1. ]),\n",
              " array([6.6, 3. , 4.4, 1.4, 1. ]),\n",
              " array([6.8, 2.8, 4.8, 1.4, 1. ]),\n",
              " array([6.7, 3. , 5. , 1.7, 1. ]),\n",
              " array([6. , 2.9, 4.5, 1.5, 1. ]),\n",
              " array([6. , 2.7, 5.1, 1.6, 1. ]),\n",
              " array([6. , 3.4, 4.5, 1.6, 1. ]),\n",
              " array([6.7, 3.1, 4.7, 1.5, 1. ]),\n",
              " array([6.3, 2.3, 4.4, 1.3, 1. ]),\n",
              " array([6.1, 3. , 4.6, 1.4, 1. ]),\n",
              " array([6.2, 2.9, 4.3, 1.3, 1. ]),\n",
              " array([6.3, 3.3, 6. , 2.5, 2. ]),\n",
              " array([7.1, 3. , 5.9, 2.1, 2. ]),\n",
              " array([6.3, 2.9, 5.6, 1.8, 2. ]),\n",
              " array([6.5, 3. , 5.8, 2.2, 2. ]),\n",
              " array([7.6, 3. , 6.6, 2.1, 2. ]),\n",
              " array([7.3, 2.9, 6.3, 1.8, 2. ]),\n",
              " array([6.7, 2.5, 5.8, 1.8, 2. ]),\n",
              " array([7.2, 3.6, 6.1, 2.5, 2. ]),\n",
              " array([6.5, 3.2, 5.1, 2. , 2. ]),\n",
              " array([6.4, 2.7, 5.3, 1.9, 2. ]),\n",
              " array([6.8, 3. , 5.5, 2.1, 2. ]),\n",
              " array([6.4, 3.2, 5.3, 2.3, 2. ]),\n",
              " array([6.5, 3. , 5.5, 1.8, 2. ]),\n",
              " array([7.7, 3.8, 6.7, 2.2, 2. ]),\n",
              " array([7.7, 2.6, 6.9, 2.3, 2. ]),\n",
              " array([6. , 2.2, 5. , 1.5, 2. ]),\n",
              " array([6.9, 3.2, 5.7, 2.3, 2. ]),\n",
              " array([7.7, 2.8, 6.7, 2. , 2. ]),\n",
              " array([6.3, 2.7, 4.9, 1.8, 2. ]),\n",
              " array([6.7, 3.3, 5.7, 2.1, 2. ]),\n",
              " array([7.2, 3.2, 6. , 1.8, 2. ]),\n",
              " array([6.2, 2.8, 4.8, 1.8, 2. ]),\n",
              " array([6.1, 3. , 4.9, 1.8, 2. ]),\n",
              " array([6.4, 2.8, 5.6, 2.1, 2. ]),\n",
              " array([7.2, 3. , 5.8, 1.6, 2. ]),\n",
              " array([7.4, 2.8, 6.1, 1.9, 2. ]),\n",
              " array([7.9, 3.8, 6.4, 2. , 2. ]),\n",
              " array([6.4, 2.8, 5.6, 2.2, 2. ]),\n",
              " array([6.3, 2.8, 5.1, 1.5, 2. ]),\n",
              " array([6.1, 2.6, 5.6, 1.4, 2. ]),\n",
              " array([7.7, 3. , 6.1, 2.3, 2. ]),\n",
              " array([6.3, 3.4, 5.6, 2.4, 2. ]),\n",
              " array([6.4, 3.1, 5.5, 1.8, 2. ]),\n",
              " array([6. , 3. , 4.8, 1.8, 2. ]),\n",
              " array([6.9, 3.1, 5.4, 2.1, 2. ]),\n",
              " array([6.7, 3.1, 5.6, 2.4, 2. ]),\n",
              " array([6.9, 3.1, 5.1, 2.3, 2. ]),\n",
              " array([6.8, 3.2, 5.9, 2.3, 2. ]),\n",
              " array([6.7, 3.3, 5.7, 2.5, 2. ]),\n",
              " array([6.7, 3. , 5.2, 2.3, 2. ]),\n",
              " array([6.3, 2.5, 5. , 1.9, 2. ]),\n",
              " array([6.5, 3. , 5.2, 2. , 2. ]),\n",
              " array([6.2, 3.4, 5.4, 2.3, 2. ])]"
            ]
          },
          "metadata": {
            "tags": []
          },
          "execution_count": 88
        }
      ]
    },
    {
      "cell_type": "code",
      "metadata": {
        "id": "Y3687gebUi4C",
        "colab_type": "code",
        "colab": {}
      },
      "source": [
        "def entropy(rows):\n",
        "    entropy=0\n",
        "    from math import log\n",
        "    log2=lambda x:log(x)/log(2)\n",
        "    count=count_values(rows)\n",
        "    for label in count:\n",
        "        p=count[label]/float(len(rows))\n",
        "        entropy-=p*log2(p)\n",
        "    return entropy \n",
        "    "
      ],
      "execution_count": 0,
      "outputs": []
    },
    {
      "cell_type": "code",
      "metadata": {
        "id": "QDGcQy5rU88X",
        "colab_type": "code",
        "colab": {
          "base_uri": "https://localhost:8080/",
          "height": 34
        },
        "outputId": "01124c71-6439-4ee8-98a3-3694fe77530d"
      },
      "source": [
        "entropy(data)"
      ],
      "execution_count": 92,
      "outputs": [
        {
          "output_type": "execute_result",
          "data": {
            "text/plain": [
              "1.584962500721156"
            ]
          },
          "metadata": {
            "tags": []
          },
          "execution_count": 92
        }
      ]
    },
    {
      "cell_type": "code",
      "metadata": {
        "id": "IgifCeA6VA90",
        "colab_type": "code",
        "colab": {}
      },
      "source": [
        "def info_gain_gini(current,left,right):\n",
        "    p =float(len(left))/len(left)+len(right)\n",
        "    return current-p*gini(left)-(1-p)*gini(right)"
      ],
      "execution_count": 0,
      "outputs": []
    },
    {
      "cell_type": "code",
      "metadata": {
        "id": "tPg-az2SVExV",
        "colab_type": "code",
        "colab": {}
      },
      "source": [
        "def info_gain_entropy(current,left,right):\n",
        "    p =float(len(left))/len(left)+len(right)\n",
        "    return current-p*entropy(left)-(1-p)*entropy(right)"
      ],
      "execution_count": 0,
      "outputs": []
    },
    {
      "cell_type": "code",
      "metadata": {
        "id": "jJs9dKG9VHRH",
        "colab_type": "code",
        "colab": {}
      },
      "source": [
        "def best_split(rows):\n",
        "    best_gain=0\n",
        "    best_question=None  \n",
        "    current=gini(rows)\n",
        "    features=len(rows[0])-1\n",
        "    for col in range(features):\n",
        "        values=set([row[col] for row in rows])\n",
        "        for val in values:\n",
        "            question=Question(col,val)\n",
        "            true_rows,false_rows=partition(rows,question)\n",
        "            if len(true_rows)==0 or len(false_rows) ==0:\n",
        "                continue\n",
        "            gain=info_gain_gini(current,true_rows,false_rows)\n",
        "            if gain>=best_gain:\n",
        "                best_gain,best_question=gain,question\n",
        "    return best_gain,best_question"
      ],
      "execution_count": 0,
      "outputs": []
    },
    {
      "cell_type": "code",
      "metadata": {
        "id": "j5sYt9xVVLni",
        "colab_type": "code",
        "colab": {}
      },
      "source": [
        "class DecisionNode:\n",
        "    def __init__(self,question,true_branch,false_branch):\n",
        "        self.question = question\n",
        "        self.true_branch = true_branch\n",
        "        self.false_branch = false_branch"
      ],
      "execution_count": 0,
      "outputs": []
    },
    {
      "cell_type": "code",
      "metadata": {
        "id": "nL3n-ytSVPIq",
        "colab_type": "code",
        "colab": {}
      },
      "source": [
        "class Leaf:\n",
        "    def __init__(self,rows):\n",
        "        self.predictions=count_values(rows)"
      ],
      "execution_count": 0,
      "outputs": []
    },
    {
      "cell_type": "code",
      "metadata": {
        "id": "BsBTsmopWF5Z",
        "colab_type": "code",
        "colab": {}
      },
      "source": [
        "def build_tree(rows):\n",
        "    gain,question=best_split(rows)\n",
        "    if gain==0:\n",
        "        return Leaf(rows)\n",
        "    true_rows, false_rows = partition(rows, question)\n",
        "    true_branch = build_tree(true_rows)\n",
        "    false_branch = build_tree(false_rows)\n",
        "    return DecisionNode(question, true_branch, false_branch)"
      ],
      "execution_count": 0,
      "outputs": []
    }
  ]
}